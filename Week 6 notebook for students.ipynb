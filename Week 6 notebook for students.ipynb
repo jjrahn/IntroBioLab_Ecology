{
 "cells": [
  {
   "cell_type": "markdown",
   "metadata": {},
   "source": [
    "# Welcome to the Jupyter notebook for the Ecology lab report.\n",
    "### This notebook will help you analyze the data you collected in order to address your hypotheses. Follow the instructions given in each cell and make sure you click the \"run\" button for each cell. Don't forget to click the power button symbol every time you generate a graph."
   ]
  },
  {
   "cell_type": "markdown",
   "metadata": {},
   "source": [
    "#### These first steps will set up the notebook, group the data by plot type, and display descriptive statistics about each plot type (fenced, unfenced and transect). You must run each of these cells in order for the notebook to work properly."
   ]
  },
  {
   "cell_type": "code",
   "execution_count": null,
   "metadata": {
    "collapsed": true
   },
   "outputs": [],
   "source": [
    "#Just as we did in Week 2, we will first set up the notebook so it will be ready to do what we ask of it.\n",
    "#We are going to want to make some graphs, also called plots, so we first create this environment.\n",
    "#The code below this line sets up a plotting environment inside the notebook.\n",
    "%matplotlib notebook\n",
    "#Next we will bring in some shortcut libraries that we will use for our analyses.\n",
    "#Think of these like toolboxes containing lots of shortcuts. We call these modules.\n",
    "#When the code line says \"import\", we are simply bringing in Python modules with code and objects we can use.\n",
    "import pandas as pd #pandas provides the capability for spreadsheets\n",
    "import numpy as np #for numerical analysis\n",
    "import matplotlib.pyplot as plt #for plotting\n",
    "import scipy.stats as ss #for statistical analysis\n",
    "import seaborn as sb #for nicer graphics\n",
    "#now we have a set of tools that we can call on inside the notebook to do things for us.\n",
    "sb.set_style('darkgrid') #sets background style for graphics"
   ]
  },
  {
   "cell_type": "code",
   "execution_count": null,
   "metadata": {},
   "outputs": [],
   "source": [
    "#We read in the data from the file and store it in a data frame object called ecology\n",
    "ecology = pd.read_excel('Ecology.xlsx')\n",
    "#Verify import\n",
    "ecology.head()"
   ]
  },
  {
   "cell_type": "code",
   "execution_count": null,
   "metadata": {
    "collapsed": true
   },
   "outputs": [],
   "source": [
    "#put data into groups\n",
    "grouped = ecology.groupby('Fenced/unfenced/transect')"
   ]
  },
  {
   "cell_type": "code",
   "execution_count": null,
   "metadata": {},
   "outputs": [],
   "source": [
    "#show the descriptive statistics for the groups\n",
    "grouped.describe().transpose()"
   ]
  },
  {
   "cell_type": "code",
   "execution_count": null,
   "metadata": {
    "collapsed": true
   },
   "outputs": [],
   "source": [
    "#Next we will create the data sets\n",
    "fenced = ecology[ecology['Fenced/unfenced/transect']=='Fenced']\n",
    "unfenced = ecology[ecology['Fenced/unfenced/transect']=='Unfenced']\n",
    "transect = ecology[ecology['Fenced/unfenced/transect']=='Transect']"
   ]
  },
  {
   "cell_type": "code",
   "execution_count": null,
   "metadata": {},
   "outputs": [],
   "source": [
    "transect.describe()"
   ]
  },
  {
   "cell_type": "markdown",
   "metadata": {},
   "source": [
    "## Question 1: Do deer affect plant biodiversity? \n",
    "#### Your question and hypothesis will be more specific and will address either trees or groundcover plants. You should also have decided which index of diversity you will be using. This question will only be using the fenced and unfenced data sets. Transect data is not considered in this question. "
   ]
  },
  {
   "cell_type": "code",
   "execution_count": null,
   "metadata": {
    "collapsed": true
   },
   "outputs": [],
   "source": [
    "# Just like we did in week 2, the first thing is to check for a normal distribution by plotting a histogram (distplot)\n",
    "# You should have chosen trees or groundcover and\n",
    "# species richness, Simpson index or Shannon index for your variable.\n",
    "# look at the first line of code which creates a title for your histogram. Type your variable inbetween the '' marks.\n",
    "# The variable name must match EXACTLY with what is provided in your protocol this week:\n",
    "# Tree species richness, Tree Simpson, Tree Shannon, \n",
    "# Groundcover species richness, Groundcover Simpson, or Groundcover Shannon\n",
    "# Look at the second line of code which creates the plot\n",
    "# Just as you did above, type your variable name inbetween the '' marks\n",
    "# Don't forget to click the power button on the graph after you run this cell.\n",
    "plt.title('')\n",
    "sb.distplot(fenced[''])"
   ]
  },
  {
   "cell_type": "code",
   "execution_count": null,
   "metadata": {
    "collapsed": true
   },
   "outputs": [],
   "source": [
    "#This histogram does the same thing but for unfenced sites. Type in your variable to the \n",
    "#code just as you did in the cell above. \n",
    "plt.title('')\n",
    "sb.distplot(unfenced[''])"
   ]
  },
  {
   "cell_type": "code",
   "execution_count": null,
   "metadata": {
    "collapsed": true
   },
   "outputs": [],
   "source": [
    "#Next you will need to make a graph comparing fenced vs unfenced in the variable you have chosen.\n",
    "#The code below creates a boxplot with fenced and unfenced on the x-axis and your variable on the y-axis\n",
    "#Scroll to the right in this cell and find the y= string. Here you should once again type in your variable name\n",
    "#This is a graph that you should include in your lab report so make sure you take a screenshot.\n",
    "sb.boxplot(data=ecology[ecology['Fenced/unfenced/transect'] != 'Transect'], x='Fenced/unfenced/transect',y='',width=0.2)"
   ]
  },
  {
   "cell_type": "markdown",
   "metadata": {},
   "source": [
    "Consider your results from the histograms. Is your variable normally distrubuted? Remember that to figure this out you need to look the curve plotted on your histogram. If the curve is roughly bell-shaped then your variable is normal. If it has secondary humps or is stretched out irregularly, the variable is non-normal. \n",
    "Look back at that stats document from Week 2 to determine which of the cells contains the appropriate test for you. If you have one normal and one non-normal, run the test appropriate for the non-normal data."
   ]
  },
  {
   "cell_type": "code",
   "execution_count": null,
   "metadata": {
    "collapsed": true
   },
   "outputs": [],
   "source": [
    "#This cell contains the code to run a t-test.\n",
    "#As you have done in the previous cells, you \n",
    "#must type in your variable between the ''. You do not need to change the second line of code which simply \n",
    "#reports the p-value in an easy to find way.\n",
    "result=ss.ttest_ind(fenced[''],unfenced[''],equal_var=False)\n",
    "print(\"P-value:\",result[1])"
   ]
  },
  {
   "cell_type": "code",
   "execution_count": null,
   "metadata": {
    "collapsed": true
   },
   "outputs": [],
   "source": [
    "#This cell contains the code to run a Mann-Whitney U test.\n",
    "#As you have done in the previous cells, you \n",
    "#must type in your variable between the first two '' marks. \n",
    "#You do not need to change the second line of code which simply \n",
    "#reports the p-value in an easy to find way.\n",
    "result=ss.mannwhitneyu(fenced[''], unfenced[''],use_continuity=True, alternative='two-sided')\n",
    "print(\"p-value:\",result[1])"
   ]
  },
  {
   "cell_type": "markdown",
   "metadata": {},
   "source": [
    "You have generated a p-value. Our significance level is 0.05. You will need to report the p-value you obtained as well as which test you performed. Remember the p-value tells you whether or not you can reject the null hypothesis. You should state this in your report but also what this means for your BIOLOGICAL hypothesis."
   ]
  },
  {
   "cell_type": "markdown",
   "metadata": {},
   "source": [
    "## Question 2: Do deer affect invertebrate biodiversity? \n",
    "#### For this question, you should also have decided which index of diversity you will be using. This question will only be using the fenced and unfenced data sets. Transect data is not considered in this question."
   ]
  },
  {
   "cell_type": "code",
   "execution_count": null,
   "metadata": {
    "collapsed": true
   },
   "outputs": [],
   "source": [
    "# As we did for question 1, we must check for normal distribution. This first cell checks fenced data.\n",
    "# You should have chosen species richness, Simpson or Shannon index for your variable.\n",
    "# look at the first line of code which creates a title for your histogram. Type your variable inbetween the '' marks.\n",
    "# The variable name must match EXACTLY:\n",
    "# Invert species richness, Invert Simpson, Invert Shannon\n",
    "# Look at the second line of code which creates the plot\n",
    "# Just as you did above, type your variable name inbetween the '' marks\n",
    "# Don't forget to click the power button on the graph after you run this cell.\n",
    "plt.title('')\n",
    "sb.distplot(fenced[''])"
   ]
  },
  {
   "cell_type": "code",
   "execution_count": null,
   "metadata": {
    "collapsed": true
   },
   "outputs": [],
   "source": [
    "#Now you will check the unfenced data. Type in your variable of choice just as you \n",
    "#did in the previous cell\n",
    "plt.title('')\n",
    "sb.distplot(unfenced[''])"
   ]
  },
  {
   "cell_type": "code",
   "execution_count": null,
   "metadata": {
    "collapsed": true
   },
   "outputs": [],
   "source": [
    "#Again we will graph fenced vs unfenced data in the variable of your choice.\n",
    "#The code below creates a boxplot with fenced and unfenced on the x-axis and your variable on the y-axis\n",
    "#Scroll to the right in this cell and find the y= string. Here you should once again type in your variable name\n",
    "#This is a graph that you should include in your lab report so make sure you take a screenshot.\n",
    "sb.boxplot(data=ecology[ecology['Fenced/unfenced/transect'] != 'Transect'], x='Fenced/unfenced/transect',y='',width=0.2)"
   ]
  },
  {
   "cell_type": "markdown",
   "metadata": {},
   "source": [
    "Consider your results from the histograms. Is your variable normally distrubuted? Remember that to figure this out you need to look the curve plotted on your histogram. If the curve is roughly bell-shaped then your variable is normal. If it has secondary humps or is stretched out irregularly, the variable is non-normal. \n",
    "Look back at that stats document from Week 2 to determine which of the cells contains the appropriate test for you. If you have one normal and one non-normal, run the test appropriate for the non-normal data."
   ]
  },
  {
   "cell_type": "code",
   "execution_count": null,
   "metadata": {
    "collapsed": true
   },
   "outputs": [],
   "source": [
    "#This cell contains the code to run a t-test.\n",
    "#As you have done in the previous cells, you \n",
    "#must type in your variable between the ''. You do not need to change the second line of code which simply \n",
    "#reports the p-value in an easy to find way.\n",
    "result=ss.ttest_ind(fenced[''],unfenced[''],equal_var=False)\n",
    "print(\"P-value:\",result[1])"
   ]
  },
  {
   "cell_type": "code",
   "execution_count": null,
   "metadata": {
    "collapsed": true
   },
   "outputs": [],
   "source": [
    "#This cell contains the code to run a Mann-Whitney U test.\n",
    "#As you have done in the previous cells, you \n",
    "#must type in your variable between the first two '' marks. \n",
    "#You do not need to change the second line of code which simply \n",
    "#reports the p-value in an easy to find way.\n",
    "result=ss.mannwhitneyu(fenced[''], unfenced[''],use_continuity=True, alternative='two-sided')\n",
    "print(\"p-value:\",result[1])"
   ]
  },
  {
   "cell_type": "markdown",
   "metadata": {},
   "source": [
    "You have generated a p-value. Our significance level is 0.05. You will need to report the p-value you obtained as well as which test you performed. Remember the p-value tells you whether or not you can reject the null hypothesis. You should state this in your report but also what this means for your BIOLOGICAL hypothesis."
   ]
  },
  {
   "cell_type": "markdown",
   "metadata": {},
   "source": [
    "## Question 3: A question of your choice\n",
    "### You should have picked one of the provided 5 options for the third question. The next sections are divided up based on those questions. Each section below has several cells containing code that will generate graphs and statistical tests. You will need to choose the cells that will produce the data that you want.\n",
    "#### General considerations: For simplicity, you do not need to check for normality in the data you use for this third question. The statistical test options are pre-selected for the correct data distribution. \n",
    "#### You will need to take a screenshot of the appropriate graph and record both the test you performed and the resulting p-value."
   ]
  },
  {
   "cell_type": "markdown",
   "metadata": {},
   "source": [
    "#### Option 1: Does the act of setting up the control plot alter biodiversity? For this question, you would need to pick one of the measures of diversity (richness, Simpson or Shannon) on one of the groups (trees, groundcover, invertebrates). You are comparing the data between unfenced plots and the transect plot."
   ]
  },
  {
   "cell_type": "code",
   "execution_count": null,
   "metadata": {
    "collapsed": true
   },
   "outputs": [],
   "source": [
    "# bar graph\n",
    "#use the output of this cell if you've decided you need a bar plot for this question. \n",
    "#you MUST put in a variable (whichever you selected) bewteen the '' marks next to y= for this to work!\n",
    "sb.boxplot(data=ecology[ecology['Fenced/unfenced/transect'] != 'Fenced'], x='Fenced/unfenced/transect', y='', width=0.2)"
   ]
  },
  {
   "cell_type": "code",
   "execution_count": null,
   "metadata": {
    "collapsed": true
   },
   "outputs": [],
   "source": [
    "# scatter graph\n",
    "#use the output of this cell if you've decided you need a scatterplot for this question. \n",
    "#you MUST put in two different variables bewteen the '' marks for this to work!\n",
    "sb.lmplot('','',fit_reg=True, data=unfenced)"
   ]
  },
  {
   "cell_type": "code",
   "execution_count": null,
   "metadata": {
    "collapsed": true,
    "scrolled": true
   },
   "outputs": [],
   "source": [
    "# t-test unpaired samples\n",
    "#use the output of this cell if you've decided you need to do a t-test for this question. \n",
    "#you MUST put in a variable (whichever you selected) bewteen the '' marks for this to work!\n",
    "ss.ttest_ind(unfenced[''],transect[''],equal_var=False)"
   ]
  },
  {
   "cell_type": "code",
   "execution_count": null,
   "metadata": {
    "collapsed": true
   },
   "outputs": [],
   "source": [
    "# spearman \n",
    "#use the output of this cell if you've decided you need to do a Pearson/spearman test for this question.\n",
    "#you MUST put in two different variables between the '' marks for this to work!\n",
    "#There is a chance depending on the variable selected, that your regression analysis will result in an error \n",
    "#where the result will read “nan”. If this is the case, interpret the result as a p-value = 1.0:\n",
    "ss.spearmanr(unfenced[''], unfenced[''])"
   ]
  },
  {
   "cell_type": "markdown",
   "metadata": {},
   "source": [
    "#### Option 2: Is the biodiversity of (select trees, groundcover or invertebrates) related to the number of deer photographed in the unfenced site? For this option, you need to pick one of the measures of diversity on one of the groups (trees, groundcover, invertebrates). You are only considering unfenced data because those sites are the only ones for which we have deer photograph data."
   ]
  },
  {
   "cell_type": "code",
   "execution_count": null,
   "metadata": {
    "collapsed": true
   },
   "outputs": [],
   "source": [
    "# bar graph\n",
    "#use the output of this cell if you've decided you need a bar plot for this question. \n",
    "#you MUST put in a variable (whichever you selected) bewteen the '' marks next to y= for this to work!\n",
    "sb.boxplot(data=ecology[ecology['Fenced/unfenced/transect'] != 'Fenced'], x='Fenced/unfenced/transect', y='', width=0.2)"
   ]
  },
  {
   "cell_type": "code",
   "execution_count": null,
   "metadata": {
    "collapsed": true
   },
   "outputs": [],
   "source": [
    "# scatter graph\n",
    "#use the output of this cell if you've decided you need a scatterplot for this question. \n",
    "#you MUST put in two different variables bewteen the '' marks for this to work!\n",
    "sb.lmplot('','',fit_reg=True, data=unfenced)"
   ]
  },
  {
   "cell_type": "code",
   "execution_count": null,
   "metadata": {
    "collapsed": true,
    "scrolled": true
   },
   "outputs": [],
   "source": [
    "# t-test unpaired samples\n",
    "#use the output of this cell if you've decided you need to do a t-test for this question. \n",
    "#you MUST put in a variable (whichever you selected) bewteen the '' marks for this to work!\n",
    "ss.ttest_ind(unfenced[''],transect[''],equal_var=False)"
   ]
  },
  {
   "cell_type": "code",
   "execution_count": null,
   "metadata": {
    "collapsed": true
   },
   "outputs": [],
   "source": [
    "# spearman \n",
    "#use the output of this cell if you've decided you need to do a Pearson/spearman test for this question.\n",
    "#you MUST put in two different variables between the '' marks for this to work!\n",
    "#There is a chance depending on the variable selected, that your regression analysis will result in an error \n",
    "#where the result will read “nan”. If this is the case, interpret the result as a p-value = 1.0:\n",
    "ss.spearmanr(unfenced[''], unfenced[''])"
   ]
  },
  {
   "cell_type": "markdown",
   "metadata": {},
   "source": [
    "#### Option 3: Does the amount of sun reaching the forest floor alter plant biodiversity? Here you would use the % canopy cover and one measure of diversity (richness, Simpson or Shannon) on one of the groups (trees or groundcover). All the data will be considered using this option."
   ]
  },
  {
   "cell_type": "code",
   "execution_count": null,
   "metadata": {
    "collapsed": true
   },
   "outputs": [],
   "source": [
    "# bar graph\n",
    "#use the output of this cell if you've decided you need a bar plot for this question. \n",
    "#you MUST put in a variable (whichever you selected) bewteen the '' marks next to y= for this to work!\n",
    "sb.boxplot(data=ecology[ecology['Fenced/unfenced/transect'] != 'Fenced'], x='Fenced/unfenced/transect', y='', width=0.2)"
   ]
  },
  {
   "cell_type": "code",
   "execution_count": null,
   "metadata": {
    "collapsed": true
   },
   "outputs": [],
   "source": [
    "# scatter graph\n",
    "#use the output of this cell if you've decided you need a scatterplot for this question. \n",
    "#you MUST put in your variable of choice bewteen the '' marks for this to work!\n",
    "sb.lmplot('','', fit_reg=True, data=ecology)"
   ]
  },
  {
   "cell_type": "code",
   "execution_count": null,
   "metadata": {
    "collapsed": true,
    "scrolled": true
   },
   "outputs": [],
   "source": [
    "# t-test unpaired samples\n",
    "#use the output of this cell if you've decided you need to do a t-test for this question. \n",
    "#you MUST put in a variable (whichever you selected) bewteen the '' marks for this to work!\n",
    "ss.ttest_ind(unfenced[''],transect[''],equal_var=False)"
   ]
  },
  {
   "cell_type": "code",
   "execution_count": null,
   "metadata": {
    "collapsed": true
   },
   "outputs": [],
   "source": [
    "# spearman \n",
    "#use the output of this cell if you've decided you need to do a Pearson/spearman test for this question.\n",
    "#you MUST put in your variable of choice between the '' marks for this to work!\n",
    "#There is a chance depending on the variable selected, that your regression analysis will result in an error \n",
    "#where the result will read “nan”. If this is the case, interpret the result as a p-value = 1.0:\n",
    "ss.spearmanr(ecology[''], ecology[''])"
   ]
  },
  {
   "cell_type": "markdown",
   "metadata": {},
   "source": [
    "#### Option 4: Do deer affect the amount of groundcover in a site? For this question, you are comparing fenced and unfenced sites with respect to % ground cover."
   ]
  },
  {
   "cell_type": "code",
   "execution_count": null,
   "metadata": {
    "collapsed": true
   },
   "outputs": [],
   "source": [
    "# bar graph\n",
    "#use the output of this cell if you've decided you need a bar plot for this question. \n",
    "#you MUST put in a variable bewteen the '' marks next to y= for this to work!\n",
    "sb.boxplot(data=ecology[ecology['Fenced/unfenced/transect'] != 'Transect'], x='Fenced/unfenced/transect', y='', width=0.2)"
   ]
  },
  {
   "cell_type": "code",
   "execution_count": null,
   "metadata": {
    "collapsed": true
   },
   "outputs": [],
   "source": [
    "# scatter graph\n",
    "#use the output of this cell if you've decided you need a scatterplot for this question. \n",
    "#you MUST put in your variable of choice bewteen the '' marks for this to work!\n",
    "sb.lmplot('','', fit_reg=True, data=ecology)"
   ]
  },
  {
   "cell_type": "code",
   "execution_count": null,
   "metadata": {
    "collapsed": true,
    "scrolled": true
   },
   "outputs": [],
   "source": [
    "# t-test unpaired samples\n",
    "#use the output of this cell if you've decided you need to do a t-test for this question. \n",
    "#you MUST put in a variable bewteen the '' marks for this to work!\n",
    "ss.ttest_ind(fenced[''],unfenced[''],equal_var=False)"
   ]
  },
  {
   "cell_type": "code",
   "execution_count": null,
   "metadata": {
    "collapsed": true
   },
   "outputs": [],
   "source": [
    "# spearman \n",
    "#use the output of this cell if you've decided you need to do a Pearson/spearman test for this question.\n",
    "#you MUST put in your variable of choice between the '' marks for this to work!\n",
    "#There is a chance depending on the variable selected, that your regression analysis will result in an error \n",
    "#where the result will read “nan”. If this is the case, interpret the result as a p-value = 1.0:\n",
    "ss.spearmanr(ecology[''], ecology[''])"
   ]
  },
  {
   "cell_type": "markdown",
   "metadata": {},
   "source": [
    "#### Option 5: 5.\tDoes the amount of groundcover affect invertebrate biodiversity? Here you would use the % groundcover and use one measure of diversity (richness, Simpson or Shannon) for invertebrates."
   ]
  },
  {
   "cell_type": "code",
   "execution_count": null,
   "metadata": {},
   "outputs": [],
   "source": [
    "# bar graph\n",
    "#use the output of this cell if you've decided you need a bar plot for this question. \n",
    "#you MUST put in a variable (whichever you selected) bewteen the '' marks next to y= for this to work!\n",
    "sb.boxplot(data=ecology[ecology['Fenced/unfenced/transect'] != 'Transect'], x='Fenced/unfenced/transect', y='', width=0.2)"
   ]
  },
  {
   "cell_type": "code",
   "execution_count": null,
   "metadata": {},
   "outputs": [],
   "source": [
    "# scatter graph\n",
    "#use the output of this cell if you've decided you need a scatterplot for this question. \n",
    "#you MUST put in your variable of choice bewteen the '' marks for this to work!\n",
    "sb.lmplot('','', fit_reg=True, data=ecology)"
   ]
  },
  {
   "cell_type": "code",
   "execution_count": null,
   "metadata": {
    "scrolled": true
   },
   "outputs": [],
   "source": [
    "# t-test unpaired samples\n",
    "#use the output of this cell if you've decided you need to do a t-test for this question. \n",
    "#you MUST put in a variable (whichever you selected) bewteen the '' marks for this to work!\n",
    "ss.ttest_ind(fenced[''],unfenced[''],equal_var=False)"
   ]
  },
  {
   "cell_type": "code",
   "execution_count": null,
   "metadata": {},
   "outputs": [],
   "source": [
    "# spearman \n",
    "#use the output of this cell if you've decided you need to do a Pearson/spearman test for this question.\n",
    "#you MUST put in your variable of choice between the '' marks for this to work!\n",
    "#There is a chance depending on the variable selected, that your regression analysis will result in an error \n",
    "#where the result will read “nan”. If this is the case, interpret the result as a p-value = 1.0:\n",
    "ss.spearmanr(ecology[''], ecology[''])"
   ]
  },
  {
   "cell_type": "code",
   "execution_count": null,
   "metadata": {
    "collapsed": true
   },
   "outputs": [],
   "source": []
  }
 ],
 "metadata": {
  "kernelspec": {
   "display_name": "Python 3",
   "language": "python",
   "name": "python3"
  },
  "language_info": {
   "codemirror_mode": {
    "name": "ipython",
    "version": 3
   },
   "file_extension": ".py",
   "mimetype": "text/x-python",
   "name": "python",
   "nbconvert_exporter": "python",
   "pygments_lexer": "ipython3",
   "version": "3.6.1"
  }
 },
 "nbformat": 4,
 "nbformat_minor": 2
}
